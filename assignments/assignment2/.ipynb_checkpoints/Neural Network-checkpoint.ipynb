{
 "cells": [
  {
   "cell_type": "markdown",
   "metadata": {},
   "source": [
    "# Задание 2.1 - Нейронные сети\n",
    "\n",
    "В этом задании вы реализуете и натренируете настоящую нейроную сеть своими руками!\n",
    "\n",
    "В некотором смысле это будет расширением прошлого задания - нам нужно просто составить несколько линейных классификаторов вместе!\n",
    "\n",
    "<img src=\"https://i.redd.it/n9fgba8b0qr01.png\" alt=\"Stack_more_layers\" width=\"400px\"/>"
   ]
  },
  {
   "cell_type": "code",
   "execution_count": 1,
   "metadata": {},
   "outputs": [],
   "source": [
    "import numpy as np\n",
    "import matplotlib.pyplot as plt\n",
    "\n",
    "%matplotlib inline\n",
    "\n",
    "%load_ext autoreload\n",
    "%autoreload 2"
   ]
  },
  {
   "cell_type": "code",
   "execution_count": 2,
   "metadata": {},
   "outputs": [],
   "source": [
    "from dataset import load_svhn, random_split_train_val\n",
    "from gradient_check import check_layer_gradient, check_layer_param_gradient, check_model_gradient\n",
    "from layers import FullyConnectedLayer, ReLULayer\n",
    "from model import TwoLayerNet\n",
    "from trainer import Trainer, Dataset\n",
    "from optim import SGD, MomentumSGD\n",
    "from metrics import multiclass_accuracy"
   ]
  },
  {
   "cell_type": "markdown",
   "metadata": {},
   "source": [
    "# Загружаем данные\n",
    "\n",
    "И разделяем их на training и validation."
   ]
  },
  {
   "cell_type": "code",
   "execution_count": 3,
   "metadata": {},
   "outputs": [],
   "source": [
    "def prepare_for_neural_network(train_X, test_X):\n",
    "    train_flat = train_X.reshape(train_X.shape[0], -1).astype(np.float) / 255.0\n",
    "    test_flat = test_X.reshape(test_X.shape[0], -1).astype(np.float) / 255.0\n",
    "    \n",
    "    # Subtract mean\n",
    "    mean_image = np.mean(train_flat, axis = 0)\n",
    "    train_flat -= mean_image\n",
    "    test_flat -= mean_image\n",
    "    \n",
    "    return train_flat, test_flat\n",
    "    \n",
    "train_X, train_y, test_X, test_y = load_svhn(\"data\", max_train=10000, max_test=1000)    \n",
    "train_X, test_X = prepare_for_neural_network(train_X, test_X)\n",
    "# Split train into train and val\n",
    "train_X, train_y, val_X, val_y = random_split_train_val(train_X, train_y, num_val = 1000)"
   ]
  },
  {
   "cell_type": "markdown",
   "metadata": {},
   "source": [
    "# Как всегда, начинаем с кирпичиков\n",
    "\n",
    "Мы будем реализовывать необходимые нам слои по очереди. Каждый слой должен реализовать:\n",
    "- прямой проход (forward pass), который генерирует выход слоя по входу и запоминает необходимые данные\n",
    "- обратный проход (backward pass), который получает градиент по выходу слоя и вычисляет градиент по входу и по параметрам\n",
    "\n",
    "Начнем с ReLU, у которого параметров нет."
   ]
  },
  {
   "cell_type": "code",
   "execution_count": 4,
   "metadata": {
    "scrolled": false
   },
   "outputs": [
    {
     "name": "stdout",
     "output_type": "stream",
     "text": [
      "Gradient check passed!\n"
     ]
    }
   ],
   "source": [
    "# TODO: Implement ReLULayer layer in layers.py\n",
    "# Note: you'll need to copy implementation of the gradient_check function from the previous assignment\n",
    "\n",
    "X = np.array([[1,-2,3],\n",
    "              [-1, 2, 0.1]\n",
    "              ])\n",
    "\n",
    "assert check_layer_gradient(ReLULayer(), X)"
   ]
  },
  {
   "cell_type": "markdown",
   "metadata": {},
   "source": [
    "А теперь реализуем полносвязный слой (fully connected layer), у которого будет два массива параметров: W (weights) и B (bias).\n",
    "\n",
    "Все параметры наши слои будут использовать для параметров специальный класс `Param`, в котором будут храниться значения параметров и градиенты этих параметров, вычисляемые во время обратного прохода.\n",
    "\n",
    "Это даст возможность аккумулировать (суммировать) градиенты из разных частей функции потерь, например, из cross-entropy loss и regularization loss."
   ]
  },
  {
   "cell_type": "code",
   "execution_count": 5,
   "metadata": {},
   "outputs": [
    {
     "name": "stdout",
     "output_type": "stream",
     "text": [
      "Gradient check passed!\n",
      "Gradient check passed!\n",
      "Gradient check passed!\n"
     ]
    }
   ],
   "source": [
    "# TODO: Implement FullyConnected layer forward and backward methods\n",
    "assert check_layer_gradient(FullyConnectedLayer(3, 4), X)\n",
    "# TODO: Implement storing gradients for W and B\n",
    "assert check_layer_param_gradient(FullyConnectedLayer(3, 4), X, 'W')\n",
    "assert check_layer_param_gradient(FullyConnectedLayer(3, 4), X, 'B')"
   ]
  },
  {
   "cell_type": "markdown",
   "metadata": {},
   "source": [
    "## Создаем нейронную сеть\n",
    "\n",
    "Теперь мы реализуем простейшую нейронную сеть с двумя полносвязным слоями и нелинейностью ReLU. Реализуйте функцию `compute_loss_and_gradients`, она должна запустить прямой и обратный проход через оба слоя для вычисления градиентов.\n",
    "\n",
    "Не забудьте реализовать очистку градиентов в начале функции."
   ]
  },
  {
   "cell_type": "code",
   "execution_count": 9,
   "metadata": {},
   "outputs": [
    {
     "name": "stdout",
     "output_type": "stream",
     "text": [
      "Checking gradient for 0_W\n",
      "Gradient check passed!\n",
      "Checking gradient for 0_B\n",
      "Gradient check passed!\n",
      "Checking gradient for 2_W\n",
      "Gradient check passed!\n",
      "Checking gradient for 2_B\n",
      "Gradient check passed!\n"
     ]
    },
    {
     "data": {
      "text/plain": [
       "True"
      ]
     },
     "execution_count": 9,
     "metadata": {},
     "output_type": "execute_result"
    }
   ],
   "source": [
    "# TODO: In model.py, implement compute_loss_and_gradients function\n",
    "model = TwoLayerNet(n_input = train_X.shape[1], n_output = 10, hidden_layer_size = 3, reg = 0)\n",
    "loss = model.compute_loss_and_gradients(train_X[:2], train_y[:2])\n",
    "\n",
    "# TODO Now implement backward pass and aggregate all of the params\n",
    "check_model_gradient(model, train_X[:2], train_y[:2])"
   ]
  },
  {
   "cell_type": "markdown",
   "metadata": {},
   "source": [
    "Теперь добавьте к модели регуляризацию - она должна прибавляться к loss и делать свой вклад в градиенты."
   ]
  },
  {
   "cell_type": "code",
   "execution_count": 10,
   "metadata": {},
   "outputs": [
    {
     "name": "stdout",
     "output_type": "stream",
     "text": [
      "Checking gradient for 0_W\n",
      "Gradient check passed!\n",
      "Checking gradient for 0_B\n",
      "Gradient check passed!\n",
      "Checking gradient for 2_W\n",
      "Gradient check passed!\n",
      "Checking gradient for 2_B\n",
      "Gradient check passed!\n"
     ]
    },
    {
     "data": {
      "text/plain": [
       "True"
      ]
     },
     "execution_count": 10,
     "metadata": {},
     "output_type": "execute_result"
    }
   ],
   "source": [
    "# TODO Now implement l2 regularization in the forward and backward pass\n",
    "model_with_reg = TwoLayerNet(n_input = train_X.shape[1], n_output = 10, hidden_layer_size = 3, reg = 1e1)\n",
    "loss_with_reg = model_with_reg.compute_loss_and_gradients(train_X[:2], train_y[:2])\n",
    "assert loss_with_reg > loss and not np.isclose(loss_with_reg, loss), \\\n",
    "    \"Loss with regularization (%2.4f) should be higher than without it (%2.4f)!\" % (loss, loss_with_reg)\n",
    "\n",
    "check_model_gradient(model_with_reg, train_X[:2], train_y[:2])"
   ]
  },
  {
   "cell_type": "markdown",
   "metadata": {},
   "source": [
    "Также реализуем функцию предсказания (вычисления значения) модели на новых данных.\n",
    "\n",
    "Какое значение точности мы ожидаем увидеть до начала тренировки?"
   ]
  },
  {
   "cell_type": "code",
   "execution_count": 12,
   "metadata": {},
   "outputs": [
    {
     "data": {
      "text/plain": [
       "0.1"
      ]
     },
     "execution_count": 12,
     "metadata": {},
     "output_type": "execute_result"
    }
   ],
   "source": [
    "# Finally, implement predict function!\n",
    "\n",
    "# TODO: Implement predict function\n",
    "# What would be the value we expect?\n",
    "multiclass_accuracy(model_with_reg.predict(train_X[:30]), train_y[:30]) "
   ]
  },
  {
   "cell_type": "markdown",
   "metadata": {},
   "source": [
    "# Допишем код для процесса тренировки\n",
    "\n",
    "Если все реализовано корректно, значение функции ошибки должно уменьшаться с каждой эпохой, пусть и медленно. Не беспокойтесь пока про validation accuracy."
   ]
  },
  {
   "cell_type": "code",
   "execution_count": 14,
   "metadata": {},
   "outputs": [
    {
     "name": "stdout",
     "output_type": "stream",
     "text": [
      "Loss: 2.302552, Train accuracy: 0.196667, val accuracy: 0.206000\n",
      "Loss: 2.302581, Train accuracy: 0.196667, val accuracy: 0.206000\n",
      "Loss: 2.302503, Train accuracy: 0.196667, val accuracy: 0.206000\n",
      "Loss: 2.302507, Train accuracy: 0.196667, val accuracy: 0.206000\n",
      "Loss: 2.302470, Train accuracy: 0.196667, val accuracy: 0.206000\n",
      "Loss: 2.302550, Train accuracy: 0.196667, val accuracy: 0.206000\n",
      "Loss: 2.302453, Train accuracy: 0.114222, val accuracy: 0.147000\n",
      "Loss: 2.302625, Train accuracy: 0.196667, val accuracy: 0.206000\n",
      "Loss: 2.302573, Train accuracy: 0.196667, val accuracy: 0.206000\n",
      "Loss: 2.302517, Train accuracy: 0.196667, val accuracy: 0.206000\n",
      "Loss: 2.302396, Train accuracy: 0.196667, val accuracy: 0.206000\n",
      "Loss: 2.302470, Train accuracy: 0.196667, val accuracy: 0.206000\n",
      "Loss: 2.302573, Train accuracy: 0.148222, val accuracy: 0.140000\n",
      "Loss: 2.302483, Train accuracy: 0.196667, val accuracy: 0.206000\n",
      "Loss: 2.302467, Train accuracy: 0.196667, val accuracy: 0.206000\n",
      "Loss: 2.302538, Train accuracy: 0.196667, val accuracy: 0.206000\n",
      "Loss: 2.302500, Train accuracy: 0.196667, val accuracy: 0.206000\n",
      "Loss: 2.302613, Train accuracy: 0.148222, val accuracy: 0.140000\n",
      "Loss: 2.302503, Train accuracy: 0.196667, val accuracy: 0.206000\n",
      "Loss: 2.302530, Train accuracy: 0.196667, val accuracy: 0.206000\n"
     ]
    }
   ],
   "source": [
    "model = TwoLayerNet(n_input = train_X.shape[1], n_output = 10, hidden_layer_size = 100, reg = 1e1)\n",
    "dataset = Dataset(train_X, train_y, val_X, val_y)\n",
    "trainer = Trainer(model, dataset, SGD(), learning_rate = 1e-2)\n",
    "\n",
    "# TODO Implement missing pieces in Trainer.fit function\n",
    "# You should expect loss to go down every epoch, even if it's slow\n",
    "loss_history, train_history, val_history = trainer.fit()"
   ]
  },
  {
   "cell_type": "code",
   "execution_count": 15,
   "metadata": {},
   "outputs": [
    {
     "data": {
      "text/plain": [
       "[<matplotlib.lines.Line2D at 0x117818bc188>]"
      ]
     },
     "execution_count": 15,
     "metadata": {},
     "output_type": "execute_result"
    },
    {
     "data": {
      "image/png": "[encoded data removed]",
      "text/plain": [
       "<Figure size 432x288 with 1 Axes>"
      ]
     },
     "metadata": {
      "needs_background": "light"
     },
     "output_type": "display_data"
    }
   ],
   "source": [
    "plt.plot(train_history)\n",
    "plt.plot(val_history)"
   ]
  },
  {
   "cell_type": "code",
   "execution_count": 16,
   "metadata": {},
   "outputs": [
    {
     "data": {
      "text/plain": [
       "[<matplotlib.lines.Line2D at 0x117822eeac8>]"
      ]
     },
     "execution_count": 16,
     "metadata": {},
     "output_type": "execute_result"
    },
    {
     "data": {
      "image/png": "[encoded data removed]",
      "text/plain": [
       "<Figure size 432x288 with 1 Axes>"
      ]
     },
     "metadata": {
      "needs_background": "light"
     },
     "output_type": "display_data"
    }
   ],
   "source": [
    "plt.plot(loss_history)"
   ]
  },
  {
   "cell_type": "markdown",
   "metadata": {},
   "source": [
    "# Улучшаем процесс тренировки\n",
    "\n",
    "Мы реализуем несколько ключевых оптимизаций, необходимых для тренировки современных нейросетей."
   ]
  },
  {
   "cell_type": "markdown",
   "metadata": {},
   "source": [
    "## Уменьшение скорости обучения (learning rate decay)\n",
    "\n",
    "Одна из необходимых оптимизаций во время тренировки нейронных сетей - постепенное уменьшение скорости обучения по мере тренировки.\n",
    "\n",
    "Один из стандартных методов - уменьшение скорости обучения (learning rate) каждые N эпох на коэффициент d (часто называемый decay). Значения N и d, как всегда, являются гиперпараметрами и должны подбираться на основе эффективности на проверочных данных (validation data). \n",
    "\n",
    "В нашем случае N будет равным 1."
   ]
  },
  {
   "cell_type": "code",
   "execution_count": 17,
   "metadata": {},
   "outputs": [
    {
     "name": "stdout",
     "output_type": "stream",
     "text": [
      "Loss: 2.295130, Train accuracy: 0.196667, val accuracy: 0.206000\n",
      "Loss: 2.297167, Train accuracy: 0.196667, val accuracy: 0.206000\n",
      "Loss: 2.278040, Train accuracy: 0.196667, val accuracy: 0.206000\n",
      "Loss: 2.310123, Train accuracy: 0.196667, val accuracy: 0.206000\n",
      "Loss: 2.316197, Train accuracy: 0.196667, val accuracy: 0.206000\n",
      "Loss: 2.292803, Train accuracy: 0.196667, val accuracy: 0.206000\n",
      "Loss: 2.296789, Train accuracy: 0.196667, val accuracy: 0.206000\n",
      "Loss: 2.242888, Train accuracy: 0.196667, val accuracy: 0.206000\n",
      "Loss: 2.277876, Train accuracy: 0.196667, val accuracy: 0.206000\n",
      "Loss: 2.328435, Train accuracy: 0.196667, val accuracy: 0.206000\n",
      "Loss: 2.308542, Train accuracy: 0.196667, val accuracy: 0.206000\n",
      "Loss: 2.429569, Train accuracy: 0.196667, val accuracy: 0.206000\n",
      "Loss: 2.301256, Train accuracy: 0.196667, val accuracy: 0.206000\n",
      "Loss: 2.284967, Train accuracy: 0.196667, val accuracy: 0.206000\n",
      "Loss: 2.317356, Train accuracy: 0.196667, val accuracy: 0.206000\n",
      "Loss: 2.316814, Train accuracy: 0.196667, val accuracy: 0.206000\n",
      "Loss: 2.253718, Train accuracy: 0.196667, val accuracy: 0.206000\n",
      "Loss: 2.323618, Train accuracy: 0.196667, val accuracy: 0.206000\n",
      "Loss: 2.227992, Train accuracy: 0.196667, val accuracy: 0.206000\n",
      "Loss: 2.291992, Train accuracy: 0.196667, val accuracy: 0.206000\n"
     ]
    }
   ],
   "source": [
    "# TODO Implement learning rate decay inside Trainer.fit method\n",
    "# Decay should happen once per epoch\n",
    "\n",
    "model = TwoLayerNet(n_input = train_X.shape[1], n_output = 10, hidden_layer_size = 100, reg = 1e-1)\n",
    "dataset = Dataset(train_X, train_y, val_X, val_y)\n",
    "trainer = Trainer(model, dataset, SGD(), learning_rate_decay=0.99)\n",
    "\n",
    "initial_learning_rate = trainer.learning_rate\n",
    "loss_history, train_history, val_history = trainer.fit()\n",
    "\n",
    "assert trainer.learning_rate < initial_learning_rate, \"Learning rate should've been reduced\"\n",
    "assert trainer.learning_rate > 0.5*initial_learning_rate, \"Learning rate shouldn'tve been reduced that much!\""
   ]
  },
  {
   "cell_type": "markdown",
   "metadata": {},
   "source": [
    "# Накопление импульса (Momentum SGD)\n",
    "\n",
    "Другой большой класс оптимизаций - использование более эффективных методов градиентного спуска. Мы реализуем один из них - накопление импульса (Momentum SGD).\n",
    "\n",
    "Этот метод хранит скорость движения, использует градиент для ее изменения на каждом шаге, и изменяет веса пропорционально значению скорости.\n",
    "(Физическая аналогия: Вместо скорости градиенты теперь будут задавать ускорение, но будет присутствовать сила трения.)\n",
    "\n",
    "```\n",
    "velocity = momentum * velocity - learning_rate * gradient \n",
    "w = w + velocity\n",
    "```\n",
    "\n",
    "`momentum` здесь коэффициент затухания, который тоже является гиперпараметром (к счастью, для него часто есть хорошее значение по умолчанию, типичный диапазон -- 0.8-0.99).\n",
    "\n",
    "Несколько полезных ссылок, где метод разбирается более подробно:  \n",
    "http://cs231n.github.io/neural-networks-3/#sgd  \n",
    "https://distill.pub/2017/momentum/"
   ]
  },
  {
   "cell_type": "code",
   "execution_count": 19,
   "metadata": {},
   "outputs": [
    {
     "name": "stdout",
     "output_type": "stream",
     "text": [
      "Loss: 2.327792, Train accuracy: 0.196667, val accuracy: 0.206000\n",
      "Loss: 2.322682, Train accuracy: 0.196667, val accuracy: 0.206000\n",
      "Loss: 2.319042, Train accuracy: 0.196667, val accuracy: 0.206000\n",
      "Loss: 2.312574, Train accuracy: 0.196667, val accuracy: 0.206000\n",
      "Loss: 2.314304, Train accuracy: 0.196667, val accuracy: 0.206000\n",
      "Loss: 2.308583, Train accuracy: 0.196667, val accuracy: 0.206000\n",
      "Loss: 2.307254, Train accuracy: 0.196667, val accuracy: 0.206000\n",
      "Loss: 2.305522, Train accuracy: 0.196667, val accuracy: 0.206000\n",
      "Loss: 2.304190, Train accuracy: 0.196667, val accuracy: 0.206000\n",
      "Loss: 2.303768, Train accuracy: 0.196667, val accuracy: 0.206000\n",
      "Loss: 2.300553, Train accuracy: 0.196667, val accuracy: 0.206000\n",
      "Loss: 2.297069, Train accuracy: 0.196667, val accuracy: 0.206000\n",
      "Loss: 2.301807, Train accuracy: 0.196667, val accuracy: 0.206000\n",
      "Loss: 2.300583, Train accuracy: 0.196667, val accuracy: 0.206000\n",
      "Loss: 2.299605, Train accuracy: 0.196667, val accuracy: 0.206000\n",
      "Loss: 2.289764, Train accuracy: 0.196667, val accuracy: 0.206000\n",
      "Loss: 2.301695, Train accuracy: 0.196667, val accuracy: 0.206000\n",
      "Loss: 2.299975, Train accuracy: 0.196667, val accuracy: 0.206000\n",
      "Loss: 2.298052, Train accuracy: 0.196667, val accuracy: 0.206000\n",
      "Loss: 2.304419, Train accuracy: 0.196667, val accuracy: 0.206000\n"
     ]
    }
   ],
   "source": [
    "# TODO: Implement MomentumSGD.update function in optim.py\n",
    "\n",
    "model = TwoLayerNet(n_input = train_X.shape[1], n_output = 10, hidden_layer_size = 100, reg = 1e-1)\n",
    "dataset = Dataset(train_X, train_y, val_X, val_y)\n",
    "trainer = Trainer(model, dataset, MomentumSGD(), learning_rate=1e-4, learning_rate_decay=0.99)\n",
    "\n",
    "# You should see even better results than before!\n",
    "loss_history, train_history, val_history = trainer.fit()"
   ]
  },
  {
   "cell_type": "markdown",
   "metadata": {},
   "source": [
    "# Ну что, давайте уже тренировать сеть!"
   ]
  },
  {
   "cell_type": "markdown",
   "metadata": {},
   "source": [
    "## Последний тест - переобучимся (overfit) на маленьком наборе данных\n",
    "\n",
    "Хороший способ проверить, все ли реализовано корректно - переобучить сеть на маленьком наборе данных.  \n",
    "Наша модель обладает достаточной мощностью, чтобы приблизить маленький набор данных идеально, поэтому мы ожидаем, что на нем мы быстро дойдем до 100% точности на тренировочном наборе. \n",
    "\n",
    "Если этого не происходит, то где-то была допущена ошибка!"
   ]
  },
  {
   "cell_type": "code",
   "execution_count": 20,
   "metadata": {},
   "outputs": [
    {
     "name": "stdout",
     "output_type": "stream",
     "text": [
      "Loss: 2.332787, Train accuracy: 0.333333, val accuracy: 0.000000\n",
      "Loss: 2.317794, Train accuracy: 0.266667, val accuracy: 0.000000\n",
      "Loss: 2.317924, Train accuracy: 0.200000, val accuracy: 0.066667\n",
      "Loss: 2.302205, Train accuracy: 0.200000, val accuracy: 0.066667\n",
      "Loss: 2.299837, Train accuracy: 0.200000, val accuracy: 0.133333\n",
      "Loss: 2.302179, Train accuracy: 0.266667, val accuracy: 0.000000\n",
      "Loss: 2.336600, Train accuracy: 0.266667, val accuracy: 0.000000\n",
      "Loss: 2.228244, Train accuracy: 0.400000, val accuracy: 0.000000\n",
      "Loss: 2.280533, Train accuracy: 0.400000, val accuracy: 0.000000\n",
      "Loss: 2.222920, Train accuracy: 0.400000, val accuracy: 0.000000\n",
      "Loss: 2.249758, Train accuracy: 0.400000, val accuracy: 0.000000\n",
      "Loss: 2.036388, Train accuracy: 0.333333, val accuracy: 0.000000\n",
      "Loss: 1.569918, Train accuracy: 0.333333, val accuracy: 0.000000\n",
      "Loss: 1.835959, Train accuracy: 0.333333, val accuracy: 0.000000\n",
      "Loss: 1.838102, Train accuracy: 0.333333, val accuracy: 0.000000\n",
      "Loss: 2.007166, Train accuracy: 0.333333, val accuracy: 0.000000\n",
      "Loss: 1.995548, Train accuracy: 0.333333, val accuracy: 0.000000\n",
      "Loss: 1.716339, Train accuracy: 0.333333, val accuracy: 0.000000\n",
      "Loss: 2.134038, Train accuracy: 0.333333, val accuracy: 0.000000\n",
      "Loss: 1.582062, Train accuracy: 0.333333, val accuracy: 0.000000\n",
      "Loss: 1.978350, Train accuracy: 0.333333, val accuracy: 0.000000\n",
      "Loss: 2.107934, Train accuracy: 0.333333, val accuracy: 0.000000\n",
      "Loss: 1.913429, Train accuracy: 0.400000, val accuracy: 0.000000\n",
      "Loss: 1.787203, Train accuracy: 0.333333, val accuracy: 0.000000\n",
      "Loss: 1.415645, Train accuracy: 0.400000, val accuracy: 0.000000\n",
      "Loss: 2.212353, Train accuracy: 0.466667, val accuracy: 0.000000\n",
      "Loss: 1.436741, Train accuracy: 0.400000, val accuracy: 0.000000\n",
      "Loss: 1.677063, Train accuracy: 0.533333, val accuracy: 0.000000\n",
      "Loss: 2.038902, Train accuracy: 0.600000, val accuracy: 0.000000\n",
      "Loss: 1.644955, Train accuracy: 0.600000, val accuracy: 0.000000\n",
      "Loss: 2.032147, Train accuracy: 0.533333, val accuracy: 0.000000\n",
      "Loss: 1.851023, Train accuracy: 0.600000, val accuracy: 0.000000\n",
      "Loss: 1.871264, Train accuracy: 0.600000, val accuracy: 0.000000\n",
      "Loss: 1.672797, Train accuracy: 0.666667, val accuracy: 0.000000\n",
      "Loss: 1.747538, Train accuracy: 0.666667, val accuracy: 0.000000\n",
      "Loss: 1.944822, Train accuracy: 0.600000, val accuracy: 0.000000\n",
      "Loss: 1.647324, Train accuracy: 0.600000, val accuracy: 0.000000\n",
      "Loss: 1.801613, Train accuracy: 0.600000, val accuracy: 0.000000\n",
      "Loss: 1.622506, Train accuracy: 0.600000, val accuracy: 0.000000\n",
      "Loss: 2.000704, Train accuracy: 0.666667, val accuracy: 0.000000\n",
      "Loss: 1.664116, Train accuracy: 0.666667, val accuracy: 0.000000\n",
      "Loss: 1.171857, Train accuracy: 0.666667, val accuracy: 0.000000\n",
      "Loss: 2.060684, Train accuracy: 0.600000, val accuracy: 0.000000\n",
      "Loss: 1.074135, Train accuracy: 0.666667, val accuracy: 0.000000\n",
      "Loss: 1.112470, Train accuracy: 0.666667, val accuracy: 0.000000\n",
      "Loss: 1.062609, Train accuracy: 0.666667, val accuracy: 0.000000\n",
      "Loss: 1.709443, Train accuracy: 0.666667, val accuracy: 0.000000\n",
      "Loss: 1.546025, Train accuracy: 0.600000, val accuracy: 0.000000\n",
      "Loss: 1.289892, Train accuracy: 0.733333, val accuracy: 0.000000\n",
      "Loss: 1.586191, Train accuracy: 0.733333, val accuracy: 0.000000\n",
      "Loss: 1.421560, Train accuracy: 0.733333, val accuracy: 0.000000\n",
      "Loss: 1.247686, Train accuracy: 0.733333, val accuracy: 0.066667\n",
      "Loss: 1.363259, Train accuracy: 0.733333, val accuracy: 0.000000\n",
      "Loss: 1.602414, Train accuracy: 0.733333, val accuracy: 0.066667\n",
      "Loss: 0.855999, Train accuracy: 0.733333, val accuracy: 0.066667\n",
      "Loss: 1.215367, Train accuracy: 0.733333, val accuracy: 0.066667\n",
      "Loss: 1.656858, Train accuracy: 0.733333, val accuracy: 0.000000\n",
      "Loss: 1.368559, Train accuracy: 0.733333, val accuracy: 0.000000\n",
      "Loss: 1.403400, Train accuracy: 0.733333, val accuracy: 0.066667\n",
      "Loss: 1.448305, Train accuracy: 0.733333, val accuracy: 0.066667\n",
      "Loss: 1.145650, Train accuracy: 0.733333, val accuracy: 0.066667\n",
      "Loss: 1.290068, Train accuracy: 0.800000, val accuracy: 0.066667\n",
      "Loss: 1.855092, Train accuracy: 0.733333, val accuracy: 0.066667\n",
      "Loss: 1.948452, Train accuracy: 0.800000, val accuracy: 0.066667\n",
      "Loss: 1.255426, Train accuracy: 0.800000, val accuracy: 0.066667\n",
      "Loss: 1.696636, Train accuracy: 0.800000, val accuracy: 0.066667\n",
      "Loss: 1.265703, Train accuracy: 0.800000, val accuracy: 0.066667\n",
      "Loss: 1.892765, Train accuracy: 0.800000, val accuracy: 0.066667\n",
      "Loss: 1.949775, Train accuracy: 0.800000, val accuracy: 0.066667\n",
      "Loss: 1.519113, Train accuracy: 0.800000, val accuracy: 0.066667\n",
      "Loss: 1.567687, Train accuracy: 0.800000, val accuracy: 0.066667\n",
      "Loss: 1.769525, Train accuracy: 0.800000, val accuracy: 0.066667\n",
      "Loss: 1.280197, Train accuracy: 0.800000, val accuracy: 0.066667\n",
      "Loss: 1.660726, Train accuracy: 0.800000, val accuracy: 0.066667\n",
      "Loss: 1.592572, Train accuracy: 0.800000, val accuracy: 0.066667\n",
      "Loss: 1.297497, Train accuracy: 0.800000, val accuracy: 0.066667\n",
      "Loss: 1.505569, Train accuracy: 0.800000, val accuracy: 0.066667\n",
      "Loss: 1.292939, Train accuracy: 0.800000, val accuracy: 0.066667\n",
      "Loss: 1.543127, Train accuracy: 0.800000, val accuracy: 0.066667\n",
      "Loss: 0.987816, Train accuracy: 0.800000, val accuracy: 0.066667\n",
      "Loss: 1.260848, Train accuracy: 0.800000, val accuracy: 0.066667\n",
      "Loss: 1.255039, Train accuracy: 0.800000, val accuracy: 0.066667\n",
      "Loss: 1.522938, Train accuracy: 0.800000, val accuracy: 0.000000\n",
      "Loss: 1.362841, Train accuracy: 0.800000, val accuracy: 0.066667\n",
      "Loss: 1.261616, Train accuracy: 0.800000, val accuracy: 0.066667\n",
      "Loss: 1.167806, Train accuracy: 0.800000, val accuracy: 0.066667\n",
      "Loss: 1.493325, Train accuracy: 0.800000, val accuracy: 0.066667\n",
      "Loss: 1.399206, Train accuracy: 0.800000, val accuracy: 0.000000\n",
      "Loss: 1.690739, Train accuracy: 0.800000, val accuracy: 0.000000\n",
      "Loss: 1.259060, Train accuracy: 0.800000, val accuracy: 0.000000\n",
      "Loss: 1.562046, Train accuracy: 0.800000, val accuracy: 0.000000\n",
      "Loss: 1.368503, Train accuracy: 0.800000, val accuracy: 0.000000\n",
      "Loss: 1.433801, Train accuracy: 0.800000, val accuracy: 0.000000\n",
      "Loss: 1.293295, Train accuracy: 0.800000, val accuracy: 0.000000\n",
      "Loss: 0.953960, Train accuracy: 0.800000, val accuracy: 0.000000\n",
      "Loss: 1.392140, Train accuracy: 0.800000, val accuracy: 0.000000\n",
      "Loss: 1.824142, Train accuracy: 0.800000, val accuracy: 0.000000\n",
      "Loss: 0.968786, Train accuracy: 0.800000, val accuracy: 0.000000\n",
      "Loss: 1.776367, Train accuracy: 0.800000, val accuracy: 0.000000\n",
      "Loss: 1.729719, Train accuracy: 0.800000, val accuracy: 0.000000\n",
      "Loss: 0.980989, Train accuracy: 0.800000, val accuracy: 0.000000\n",
      "Loss: 1.336811, Train accuracy: 0.800000, val accuracy: 0.000000\n",
      "Loss: 1.344808, Train accuracy: 0.866667, val accuracy: 0.000000\n",
      "Loss: 1.273233, Train accuracy: 0.866667, val accuracy: 0.000000\n",
      "Loss: 1.336292, Train accuracy: 0.866667, val accuracy: 0.000000\n",
      "Loss: 1.303467, Train accuracy: 0.866667, val accuracy: 0.000000\n",
      "Loss: 1.579731, Train accuracy: 0.866667, val accuracy: 0.000000\n",
      "Loss: 1.131228, Train accuracy: 0.866667, val accuracy: 0.000000\n",
      "Loss: 1.385243, Train accuracy: 0.866667, val accuracy: 0.000000\n",
      "Loss: 1.290646, Train accuracy: 0.866667, val accuracy: 0.000000\n",
      "Loss: 1.290269, Train accuracy: 0.866667, val accuracy: 0.000000\n",
      "Loss: 1.343619, Train accuracy: 0.866667, val accuracy: 0.000000\n",
      "Loss: 1.320469, Train accuracy: 0.866667, val accuracy: 0.000000\n",
      "Loss: 1.253212, Train accuracy: 0.866667, val accuracy: 0.000000\n",
      "Loss: 1.294666, Train accuracy: 0.933333, val accuracy: 0.000000\n",
      "Loss: 1.410404, Train accuracy: 0.933333, val accuracy: 0.000000\n",
      "Loss: 1.444690, Train accuracy: 0.866667, val accuracy: 0.000000\n",
      "Loss: 1.268956, Train accuracy: 0.933333, val accuracy: 0.000000\n",
      "Loss: 1.393477, Train accuracy: 0.933333, val accuracy: 0.000000\n",
      "Loss: 1.320852, Train accuracy: 1.000000, val accuracy: 0.000000\n",
      "Loss: 1.204485, Train accuracy: 0.933333, val accuracy: 0.000000\n",
      "Loss: 1.094390, Train accuracy: 0.933333, val accuracy: 0.000000\n",
      "Loss: 1.347567, Train accuracy: 1.000000, val accuracy: 0.000000\n",
      "Loss: 0.954180, Train accuracy: 1.000000, val accuracy: 0.000000\n",
      "Loss: 0.953445, Train accuracy: 1.000000, val accuracy: 0.000000\n",
      "Loss: 1.657558, Train accuracy: 1.000000, val accuracy: 0.000000\n",
      "Loss: 1.188464, Train accuracy: 1.000000, val accuracy: 0.000000\n",
      "Loss: 1.376814, Train accuracy: 1.000000, val accuracy: 0.000000\n",
      "Loss: 1.364476, Train accuracy: 1.000000, val accuracy: 0.000000\n",
      "Loss: 1.336630, Train accuracy: 1.000000, val accuracy: 0.000000\n",
      "Loss: 1.074406, Train accuracy: 1.000000, val accuracy: 0.000000\n",
      "Loss: 1.273666, Train accuracy: 1.000000, val accuracy: 0.000000\n",
      "Loss: 1.495804, Train accuracy: 1.000000, val accuracy: 0.000000\n",
      "Loss: 1.247144, Train accuracy: 1.000000, val accuracy: 0.000000\n",
      "Loss: 1.478459, Train accuracy: 1.000000, val accuracy: 0.000000\n",
      "Loss: 1.205599, Train accuracy: 1.000000, val accuracy: 0.000000\n",
      "Loss: 1.134383, Train accuracy: 1.000000, val accuracy: 0.000000\n",
      "Loss: 1.323082, Train accuracy: 1.000000, val accuracy: 0.000000\n",
      "Loss: 1.086468, Train accuracy: 1.000000, val accuracy: 0.000000\n",
      "Loss: 1.216799, Train accuracy: 1.000000, val accuracy: 0.000000\n",
      "Loss: 1.469681, Train accuracy: 1.000000, val accuracy: 0.000000\n",
      "Loss: 1.219580, Train accuracy: 1.000000, val accuracy: 0.000000\n",
      "Loss: 1.437758, Train accuracy: 1.000000, val accuracy: 0.000000\n",
      "Loss: 1.201014, Train accuracy: 1.000000, val accuracy: 0.000000\n"
     ]
    },
    {
     "name": "stdout",
     "output_type": "stream",
     "text": [
      "Loss: 1.025252, Train accuracy: 1.000000, val accuracy: 0.000000\n",
      "Loss: 1.409853, Train accuracy: 1.000000, val accuracy: 0.000000\n",
      "Loss: 1.375681, Train accuracy: 1.000000, val accuracy: 0.000000\n",
      "Loss: 1.235809, Train accuracy: 1.000000, val accuracy: 0.000000\n",
      "Loss: 1.323886, Train accuracy: 1.000000, val accuracy: 0.000000\n",
      "Loss: 1.219396, Train accuracy: 1.000000, val accuracy: 0.000000\n"
     ]
    }
   ],
   "source": [
    "data_size = 15\n",
    "model = TwoLayerNet(n_input = train_X.shape[1], n_output = 10, hidden_layer_size = 100, reg = 1e-1)\n",
    "dataset = Dataset(train_X[:data_size], train_y[:data_size], val_X[:data_size], val_y[:data_size])\n",
    "trainer = Trainer(model, dataset, SGD(), learning_rate=1e-1, num_epochs=150, batch_size=5)\n",
    "\n",
    "# You should expect this to reach 1.0 training accuracy \n",
    "loss_history, train_history, val_history = trainer.fit()"
   ]
  },
  {
   "cell_type": "markdown",
   "metadata": {},
   "source": [
    "Теперь найдем гипепараметры, для которых этот процесс сходится быстрее.\n",
    "Если все реализовано корректно, то существуют параметры, при которых процесс сходится в **20** эпох или еще быстрее.\n",
    "Найдите их!"
   ]
  },
  {
   "cell_type": "code",
   "execution_count": 21,
   "metadata": {},
   "outputs": [
    {
     "name": "stdout",
     "output_type": "stream",
     "text": [
      "Loss: 2.331350, Train accuracy: 0.200000, val accuracy: 0.133333\n",
      "Loss: 2.320861, Train accuracy: 0.200000, val accuracy: 0.133333\n",
      "Loss: 2.325051, Train accuracy: 0.333333, val accuracy: 0.000000\n",
      "Loss: 2.311731, Train accuracy: 0.266667, val accuracy: 0.000000\n",
      "Loss: 2.295380, Train accuracy: 0.200000, val accuracy: 0.066667\n",
      "Loss: 2.292540, Train accuracy: 0.200000, val accuracy: 0.066667\n",
      "Loss: 2.285747, Train accuracy: 0.266667, val accuracy: 0.000000\n",
      "Loss: 2.258956, Train accuracy: 0.400000, val accuracy: 0.000000\n",
      "Loss: 2.289278, Train accuracy: 0.400000, val accuracy: 0.000000\n",
      "Loss: 2.105897, Train accuracy: 0.400000, val accuracy: 0.000000\n",
      "Loss: 1.981364, Train accuracy: 0.400000, val accuracy: 0.000000\n",
      "Loss: 2.197079, Train accuracy: 0.333333, val accuracy: 0.000000\n",
      "Loss: 1.696515, Train accuracy: 0.333333, val accuracy: 0.000000\n",
      "Loss: 1.753702, Train accuracy: 0.333333, val accuracy: 0.000000\n",
      "Loss: 1.958610, Train accuracy: 0.333333, val accuracy: 0.000000\n",
      "Loss: 1.884121, Train accuracy: 0.333333, val accuracy: 0.000000\n",
      "Loss: 1.452922, Train accuracy: 0.333333, val accuracy: 0.000000\n",
      "Loss: 1.819920, Train accuracy: 0.333333, val accuracy: 0.000000\n",
      "Loss: 2.230650, Train accuracy: 0.333333, val accuracy: 0.000000\n",
      "Loss: 2.131840, Train accuracy: 0.333333, val accuracy: 0.000000\n"
     ]
    }
   ],
   "source": [
    "# Now, tweak some hyper parameters and make it train to 1.0 accuracy in 20 epochs or less\n",
    "\n",
    "model = TwoLayerNet(n_input = train_X.shape[1], n_output = 10, hidden_layer_size = 100, reg = 1e-1)\n",
    "dataset = Dataset(train_X[:data_size], train_y[:data_size], val_X[:data_size], val_y[:data_size])\n",
    "# TODO: Change any hyperparamers or optimizators to reach training accuracy in 20 epochs\n",
    "trainer = Trainer(model, dataset, SGD(), learning_rate=1e-1, num_epochs=20, batch_size=5)\n",
    "\n",
    "loss_history, train_history, val_history = trainer.fit()"
   ]
  },
  {
   "cell_type": "markdown",
   "metadata": {},
   "source": [
    "# Итак, основное мероприятие!\n",
    "\n",
    "Натренируйте лучшую нейросеть! Можно добавлять и изменять параметры, менять количество нейронов в слоях сети и как угодно экспериментировать. \n",
    "\n",
    "Добейтесь точности лучше **60%** на validation set."
   ]
  },
  {
   "cell_type": "code",
   "execution_count": 23,
   "metadata": {
    "scrolled": true
   },
   "outputs": [
    {
     "name": "stdout",
     "output_type": "stream",
     "text": [
      "best validation accuracy achieved: 0.787000\n"
     ]
    }
   ],
   "source": [
    "# Let's train the best one-hidden-layer network we can\n",
    "\n",
    "learning_rates = [1e-4, 1e-3, 1e-2]\n",
    "reg_strength = [1e-2, 1e-3]\n",
    "learning_rate_decay = [0,95, 0.999]\n",
    "hidden_layer_size = 128\n",
    "num_epochs = 200\n",
    "batch_size = 64\n",
    "\n",
    "best_classifier = None\n",
    "best_val_accuracy = 0\n",
    "\n",
    "loss_history = []\n",
    "train_history = []\n",
    "val_history = []\n",
    "\n",
    "# TODO find the best hyperparameters to train the network\n",
    "# Don't hesitate to add new values to the arrays above, perform experiments, use any tricks you want\n",
    "# You should expect to get to at least 40% of valudation accuracy\n",
    "# Save loss/train/history of the best classifier to the variables above\n",
    "\n",
    "for lr in learning_rates:\n",
    "    for reg in reg_strength:\n",
    "        for lr_decay in learning_rate_decay:\n",
    "            model = TwoLayerNet(n_input = train_X.shape[1], n_output = 10, hidden_layer_size = hidden_layer_size, \n",
    "                                reg = reg)\n",
    "            dataset = Dataset(train_X, train_y, val_X, val_y)\n",
    "            trainer = Trainer(model, dataset, MomentumSGD(), learning_rate=lr, num_epochs=num_epochs, batch_size=batch_size)\n",
    "            loss_history_curr, train_history_curr, val_history_curr = trainer.fit()\n",
    "            if val_history_curr[-1] > best_val_accuracy:\n",
    "                best_val_accuracy = val_history_curr[-1]\n",
    "                best_classifier = model\n",
    "                loss_history = loss_history_curr\n",
    "                train_history = train_history_curr\n",
    "                val_history = val_history_curr\n",
    "\n",
    "\n",
    "print('best validation accuracy achieved: %f' % best_val_accuracy)"
   ]
  },
  {
   "cell_type": "code",
   "execution_count": 24,
   "metadata": {},
   "outputs": [
    {
     "data": {
      "text/plain": [
       "[<matplotlib.lines.Line2D at 0x11793166988>]"
      ]
     },
     "execution_count": 24,
     "metadata": {},
     "output_type": "execute_result"
    },
    {
     "data": {
      "image/png": "[encoded data removed]",
      "text/plain": [
       "<Figure size 1080x504 with 2 Axes>"
      ]
     },
     "metadata": {
      "needs_background": "light"
     },
     "output_type": "display_data"
    }
   ],
   "source": [
    "plt.figure(figsize=(15, 7))\n",
    "plt.subplot(211)\n",
    "plt.title(\"Loss\")\n",
    "plt.plot(loss_history)\n",
    "plt.subplot(212)\n",
    "plt.title(\"Train/validation accuracy\")\n",
    "plt.plot(train_history)\n",
    "plt.plot(val_history)"
   ]
  },
  {
   "cell_type": "markdown",
   "metadata": {},
   "source": [
    "# Как обычно, посмотрим, как наша лучшая модель работает на тестовых данных"
   ]
  },
  {
   "cell_type": "code",
   "execution_count": 25,
   "metadata": {},
   "outputs": [
    {
     "name": "stdout",
     "output_type": "stream",
     "text": [
      "Neural net test set accuracy: 0.749000\n"
     ]
    }
   ],
   "source": [
    "test_pred = best_classifier.predict(test_X)\n",
    "test_accuracy = multiclass_accuracy(test_pred, test_y)\n",
    "print('Neural net test set accuracy: %f' % (test_accuracy, ))"
   ]
  },
  {
   "cell_type": "code",
   "execution_count": null,
   "metadata": {},
   "outputs": [],
   "source": []
  }
 ],
 "metadata": {
  "kernelspec": {
   "display_name": "Python 3",
   "language": "python",
   "name": "python3"
  },
  "language_info": {
   "codemirror_mode": {
    "name": "ipython",
    "version": 3
   },
   "file_extension": ".py",
   "mimetype": "text/x-python",
   "name": "python",
   "nbconvert_exporter": "python",
   "pygments_lexer": "ipython3",
   "version": "3.7.4"
  }
 },
 "nbformat": 4,
 "nbformat_minor": 2
}
